{
 "cells": [
  {
   "cell_type": "code",
   "execution_count": 2,
   "metadata": {},
   "outputs": [],
   "source": [
    "import math\n",
    "from matplotlib import pyplot as plt"
   ]
  },
  {
   "cell_type": "code",
   "execution_count": 3,
   "metadata": {},
   "outputs": [],
   "source": [
    "import json\n",
    "import subprocess"
   ]
  },
  {
   "cell_type": "code",
   "execution_count": 4,
   "metadata": {},
   "outputs": [],
   "source": [
    "with open(\"cv/checkpoint_46000.json\") as f:\n",
    "    data = json.load(f)"
   ]
  },
  {
   "cell_type": "code",
   "execution_count": 5,
   "metadata": {},
   "outputs": [
    {
     "data": {
      "image/png": "[encoded data removed]",
      "text/plain": [
       "<matplotlib.figure.Figure at 0x7f0d09fef0f0>"
      ]
     },
     "metadata": {},
     "output_type": "display_data"
    }
   ],
   "source": [
    "plt.plot(data['train_loss_history'])\n",
    "plt.title(\"Empirical loss\")\n",
    "# plt.xlim(0,1000)\n",
    "plt.grid()"
   ]
  },
  {
   "cell_type": "code",
   "execution_count": 6,
   "metadata": {},
   "outputs": [],
   "source": [
    "def writer(init, n=2000, temperature=0.5, checkpoint=46000):\n",
    "    n_chk = checkpoint\n",
    "    start_text = init\n",
    "    if temperature<0.1:\n",
    "        sample=0\n",
    "    else:\n",
    "        sample=1\n",
    "#     temperature = 0.5\n",
    "    cmd = f\"cd ~/torch-rnn && /home/jovyan/torch/install/bin/th sample.lua  -checkpoint ../cv/checkpoint_{n_chk}.t7 -length {n} -gpu -1 -sample {sample} -temperature {temperature} -start_text \\\"{start_text}\\\"\"\n",
    "    res = subprocess.check_output(cmd, shell=True, universal_newlines=True)\n",
    "    return res"
   ]
  },
  {
   "cell_type": "code",
   "execution_count": 7,
   "metadata": {},
   "outputs": [
    {
     "data": {
      "application/vnd.jupyter.widget-view+json": {
       "model_id": "f968723f893d4197bef5daf025612123",
       "version_major": 2,
       "version_minor": 0
      },
      "text/html": [
       "<p>Failed to display Jupyter Widget of type <code>VBox</code>.</p>\n",
       "<p>\n",
       "  If you're reading this message in the Jupyter Notebook or JupyterLab Notebook, it may mean\n",
       "  that the widgets JavaScript is still loading. If this message persists, it\n",
       "  likely means that the widgets JavaScript library is either not installed or\n",
       "  not enabled. See the <a href=\"https://ipywidgets.readthedocs.io/en/stable/user_install.html\">Jupyter\n",
       "  Widgets Documentation</a> for setup instructions.\n",
       "</p>\n",
       "<p>\n",
       "  If you're reading this message in another frontend (for example, a static\n",
       "  rendering on GitHub or <a href=\"https://nbviewer.jupyter.org/\">NBViewer</a>),\n",
       "  it may mean that your frontend doesn't currently support widgets.\n",
       "</p>\n"
      ],
      "text/plain": [
       "VBox(children=(Label(value='Easy speech generator', layout=Layout(width='80%')), Textarea(value='', layout=Layout(height='50%', width='80%')), FloatSlider(value=0.0, description='Policy relevance', layout=Layout(width='80%')), IntSlider(value=50, description='Speed', layout=Layout(width='80%'), max=2000, min=1), Button(description='Write', style=ButtonStyle())), layout=Layout(height='50%', width='100%'))"
      ]
     },
     "metadata": {},
     "output_type": "display_data"
    }
   ],
   "source": [
    "from ipywidgets import *\n",
    "from matplotlib import pyplot as plt\n",
    "label = Label(\"Easy speech generator\", layout=Layout(width='80%'))\n",
    "textarea = Textarea(layout=Layout(width='80%', height=\"50%\"))\n",
    "fslider = FloatSlider(description=\"Policy relevance\", orientation='horizontal', layout=Layout(width='80%'))\n",
    "islider = IntSlider(50,1,2000,description=\"Speed\", orientation='horizontal', layout=Layout(width='80%'))\n",
    "\n",
    "button = Button(description=\"Write\")\n",
    "\n",
    "gui = VBox([    label,\n",
    "    textarea,\n",
    "    fslider,\n",
    "    islider,\n",
    "    button\n",
    "], layout=Layout(width='100%', height=\"50%\"))\n",
    "gui"
   ]
  },
  {
   "cell_type": "code",
   "execution_count": 7,
   "metadata": {},
   "outputs": [],
   "source": [
    "def write_it():\n",
    "    init = textarea.value\n",
    "    init = str.strip(init)\n",
    "    init = init.replace(\"\\n\", \" \")\n",
    "    init = init.replace(\"\\t\", \" \")\n",
    "    n = islider.value\n",
    "    temperature = fslider.value/100\n",
    "    seniority = 46000\n",
    "    new_text = writer(init, n=n+len(init), temperature=temperature, checkpoint=seniority)\n",
    "    textarea.value = new_text"
   ]
  },
  {
   "cell_type": "code",
   "execution_count": 8,
   "metadata": {},
   "outputs": [],
   "source": [
    "button.on_click(lambda s: write_it())"
   ]
  },
  {
   "cell_type": "code",
   "execution_count": 10,
   "metadata": {},
   "outputs": [
    {
     "name": "stdout",
     "output_type": "stream",
     "text": [
      "Good evening of the Monetary Policy Break 2011).\n",
      "\n",
      "All speeches are available online at www.bankofengland.co.uk/publications/Pages/speeches/default.aspx\n",
      "\n",
      "All speeches are available online at www.bankofengland.co.uk/publications/Pages/speeches/default.aspx\n",
      "\n",
      "The previous sector that possible the advanced economic shocks and the pre-crisis lending and easing to support with losses and the contracts of the future and the crisis in the economy is not a possible particularly record of the UK has been expected to reduce the community of\n",
      "combination of the 1970s and monthly lending about the internal growth in the economy and comments to increased in the last countries are experienced the country of the other challenge for the contract of the outlook for the recovery of the shock of the safety and the really respond to some level of monetary policy to sometimes not faced on the compensation of the same bank depressing banking sector financial services and complexity of our developments in the past 2006 and 2008 Q4 and 9 percentage point that the real economy and the next few years to decline – and the intermediation of this measures of a falling in the UK and inflation target rate as a market conditions and and costs will going to the financial system will be able to return to that inflation target and the future can be a saving of banks and the size of inflation important increases which the number of probably many of the firm savings and the assets and monetary policy. There is that the Bank of England has been to complete stable companies and early 2008. And the outlook, as in the developments and the stock of the securities worked by the Bank of England economy, productivity growth and suggested that the components of the fire and monetary policy in the commodity prices and recently starting the recovery and significant banking issues and effects of the response in the UK has fallen a more supply and successful\n",
      "than the composition of companies\n",
      "as one work on the health \t\n",
      "\n"
     ]
    }
   ],
   "source": [
    "print(writer(\"Good evening\"))"
   ]
  },
  {
   "cell_type": "code",
   "execution_count": null,
   "metadata": {},
   "outputs": [],
   "source": []
  },
  {
   "cell_type": "code",
   "execution_count": null,
   "metadata": {},
   "outputs": [],
   "source": []
  }
 ],
 "metadata": {
  "kernelspec": {
   "display_name": "Python 3",
   "language": "python",
   "name": "python3"
  },
  "language_info": {
   "codemirror_mode": {
    "name": "ipython",
    "version": 3
   },
   "file_extension": ".py",
   "mimetype": "text/x-python",
   "name": "python",
   "nbconvert_exporter": "python",
   "pygments_lexer": "ipython3",
   "version": "3.6.4"
  }
 },
 "nbformat": 4,
 "nbformat_minor": 2
}
